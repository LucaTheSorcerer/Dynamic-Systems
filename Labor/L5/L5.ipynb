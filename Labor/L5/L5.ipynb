{
 "cells": [
  {
   "cell_type": "markdown",
   "id": "98f3b99a",
   "metadata": {},
   "source": [
    "# Laboratory 5"
   ]
  },
  {
   "cell_type": "markdown",
   "id": "ad5d21eb",
   "metadata": {},
   "source": [
    "## Exercise 1"
   ]
  },
  {
   "cell_type": "code",
   "execution_count": 1,
   "id": "8921e736",
   "metadata": {},
   "outputs": [],
   "source": [
    "reset()\n",
    "x=var('x')\n",
    "y=function('y')(x)\n",
    "deq=x*diff(y,x,2)-(x+1)*diff(y,x)-2*(x-1)*y==0"
   ]
  },
  {
   "cell_type": "code",
   "execution_count": 2,
   "id": "e23ebb06",
   "metadata": {},
   "outputs": [],
   "source": [
    "y1=function('y1')(x)\n",
    "y1(x)=exp(2*x)\n",
    "y2=function('y2')(x)\n",
    "y2(x)=x^2+1"
   ]
  },
  {
   "cell_type": "code",
   "execution_count": 3,
   "id": "0e725365",
   "metadata": {},
   "outputs": [
    {
     "data": {
      "text/plain": [
       "0"
      ]
     },
     "execution_count": 3,
     "metadata": {},
     "output_type": "execute_result"
    }
   ],
   "source": [
    "ans1 = x*diff(y1,x,2) - (x + 1) * diff(y1,x) - 2*(x - 1) * y1\n",
    "expand(ans1(x))\n",
    "# == 0 => ist Losung"
   ]
  },
  {
   "cell_type": "code",
   "execution_count": 4,
   "id": "dd3e06fc",
   "metadata": {},
   "outputs": [
    {
     "data": {
      "text/plain": [
       "-2*x^3 - 2*x + 2"
      ]
     },
     "execution_count": 4,
     "metadata": {},
     "output_type": "execute_result"
    }
   ],
   "source": [
    "ans2 = x*diff(y2,x,2) - (x + 1) * diff(y2,x) - 2*(x - 1) * y2\n",
    "expand(ans2(x))\n",
    "# != 0 => ist keine Losung"
   ]
  },
  {
   "cell_type": "code",
   "execution_count": 5,
   "id": "6459c412",
   "metadata": {},
   "outputs": [],
   "source": [
    "reset()\n",
    "x=var('x')\n",
    "y=function('y')(x)\n",
    "deq=diff(y,x,2)-tan(x)*diff(y,x)+2*y==0"
   ]
  },
  {
   "cell_type": "code",
   "execution_count": 6,
   "id": "95a431b1",
   "metadata": {},
   "outputs": [],
   "source": [
    "y1=function('y1')(x)\n",
    "y1(x)=cos(x)\n",
    "y2=function('y2')(x)\n",
    "y2(x)=sin(x)"
   ]
  },
  {
   "cell_type": "code",
   "execution_count": 7,
   "id": "cf6d5c29",
   "metadata": {},
   "outputs": [
    {
     "data": {
      "text/plain": [
       "sin(x)*tan(x) + cos(x) == 0"
      ]
     },
     "execution_count": 7,
     "metadata": {},
     "output_type": "execute_result"
    }
   ],
   "source": [
    "ans1=diff(y1,x,2)-tan(x)*diff(y1,x)+2*y1==0\n",
    "expand(ans1(x))\n",
    "# == 0 => ist Losung"
   ]
  },
  {
   "cell_type": "code",
   "execution_count": 8,
   "id": "9580c4d3",
   "metadata": {},
   "outputs": [
    {
     "data": {
      "text/plain": [
       "-cos(x)*tan(x) + sin(x) == 0"
      ]
     },
     "execution_count": 8,
     "metadata": {},
     "output_type": "execute_result"
    }
   ],
   "source": [
    "ans2=diff(y2,x,2)-tan(x)*diff(y2,x)+2*y2==0\n",
    "expand(ans2(x))\n",
    "# != 0 => ist keine Losung"
   ]
  },
  {
   "cell_type": "code",
   "execution_count": 13,
   "id": "21710570",
   "metadata": {},
   "outputs": [],
   "source": [
    "#b\n",
    "#y′′−tan(x)y′+ 2y= 0, y1(x) = cos(x), y2(x) = sin(x)\n",
    "\n",
    "reset()\n",
    "x=var('x')\n",
    "y=function('y')(x)\n",
    "deq=diff(y,x,2)-tan(x)*diff(y,x)+2*y==0\n",
    "y1=function('y1')(x)\n",
    "y1(x)=cos(x)\n",
    "y2=function('y2')(x)\n",
    "y2(x)=sin(x)"
   ]
  },
  {
   "cell_type": "code",
   "execution_count": 14,
   "id": "efe511b8",
   "metadata": {},
   "outputs": [
    {
     "data": {
      "text/plain": [
       "sin(x)*tan(x) + cos(x) == 0"
      ]
     },
     "execution_count": 14,
     "metadata": {},
     "output_type": "execute_result"
    }
   ],
   "source": [
    "ans1 = diff(y1, x, 2)-tan(x)*diff(y1,x)+2*y1==0\n",
    "expand(ans1(x))\n",
    "#Losung"
   ]
  },
  {
   "cell_type": "code",
   "execution_count": 15,
   "id": "5d24e381",
   "metadata": {},
   "outputs": [
    {
     "data": {
      "text/plain": [
       "-cos(x)*tan(x) + sin(x) == 0"
      ]
     },
     "execution_count": 15,
     "metadata": {},
     "output_type": "execute_result"
    }
   ],
   "source": [
    "ans2=diff(y2,x,2)-tan(x)*diff(y2,x)+2*y2==0\n",
    "expand(ans2(x))\n",
    "#Losung"
   ]
  },
  {
   "cell_type": "code",
   "execution_count": null,
   "id": "1e5675d4",
   "metadata": {},
   "outputs": [],
   "source": []
  },
  {
   "cell_type": "code",
   "execution_count": null,
   "id": "295eb7da",
   "metadata": {},
   "outputs": [],
   "source": []
  },
  {
   "cell_type": "code",
   "execution_count": null,
   "id": "8191b960",
   "metadata": {},
   "outputs": [],
   "source": []
  },
  {
   "cell_type": "code",
   "execution_count": null,
   "id": "982dffcd",
   "metadata": {},
   "outputs": [],
   "source": []
  },
  {
   "cell_type": "code",
   "execution_count": null,
   "id": "76e84c52",
   "metadata": {},
   "outputs": [],
   "source": []
  },
  {
   "cell_type": "markdown",
   "id": "d8984193",
   "metadata": {},
   "source": [
    "## Exercise 2"
   ]
  },
  {
   "cell_type": "code",
   "execution_count": 9,
   "id": "3a50680a",
   "metadata": {},
   "outputs": [
    {
     "data": {
      "text/plain": [
       "a^2*x*e^(a*x) - 2*a*x*e^(a*x) - a*e^(a*x) + 2*e^(a*x)"
      ]
     },
     "execution_count": 9,
     "metadata": {},
     "output_type": "execute_result"
    }
   ],
   "source": [
    "#xy′′−(2x+ 1)y′+ 2y= 0, u(x) = exp(ax);\n",
    "reset()\n",
    "x,a=var('x,a')\n",
    "y=function('y')(x)\n",
    "deq=x*diff(y,x,2)-(2*x+1)*diff(y,x)+2*y == 0\n",
    "u=function('u')(x)\n",
    "u(x)=exp(a*x)\n",
    "ans=x*diff(u,x,2)-(2*x+1)*diff(u,x)+2*u\n",
    "ans(x)\n",
    "#v=function('v')(x)\n",
    "#v(x)=x^2+1\n",
    "#ans=x*diff(v,x,2)-(x+1)*diff(v,x)-2*(x-1)*v\n",
    "#ans(x)\n",
    "expand(ans(x))"
   ]
  },
  {
   "cell_type": "code",
   "execution_count": 10,
   "id": "e5ec845d",
   "metadata": {},
   "outputs": [
    {
     "data": {
      "text/plain": [
       "[b == 0]"
      ]
     },
     "execution_count": 10,
     "metadata": {},
     "output_type": "execute_result"
    }
   ],
   "source": [
    "# (b)y′′+y′−yx= 0, u(x) =ax+b\n",
    "reset()\n",
    "x=var('x')\n",
    "y=function('y')(x)\n",
    "deq=diff(y,x,2)+diff(y,x)-y/x==0\n",
    "a,b=var('a,b')\n",
    "u=function('u')(x)\n",
    "u(x)=a*x+b\n",
    "def L(y):\n",
    "    a(x)=expand(diff(y,x,2)+diff(y,x)-y/x)\n",
    "    return a(x)\n",
    "L(u)\n",
    "ans=L(u)\n",
    "ans.coefficients(x)\n",
    "coeff=ans.coefficients(x)\n",
    "coeff[0][0]\n",
    "coeff[0][1]\n",
    "c0=coeff[0][0]\n",
    "solve([c0==0],b)"
   ]
  },
  {
   "cell_type": "code",
   "execution_count": 16,
   "id": "7487c6ee",
   "metadata": {},
   "outputs": [],
   "source": [
    "#b y′′+y′−yx= 0, u(x) =ax+b\n"
   ]
  },
  {
   "cell_type": "markdown",
   "id": "49f747d5",
   "metadata": {},
   "source": [
    "# Exercise 3"
   ]
  },
  {
   "cell_type": "code",
   "execution_count": 17,
   "id": "4687e29a",
   "metadata": {},
   "outputs": [],
   "source": [
    "#a (a)S={x,exp(x)},(x−1)y′′−xy′+y= 0;"
   ]
  },
  {
   "cell_type": "code",
   "execution_count": 18,
   "id": "45d1a624",
   "metadata": {},
   "outputs": [],
   "source": [
    "reset()"
   ]
  },
  {
   "cell_type": "code",
   "execution_count": 21,
   "id": "29e875ff",
   "metadata": {},
   "outputs": [],
   "source": [
    "x = var('x')\n",
    "y=function('y')(x)\n",
    "deq=(x-1)*diff(y,x,2)-x * diff(y,x) + y == 0"
   ]
  },
  {
   "cell_type": "code",
   "execution_count": 22,
   "id": "911d876a",
   "metadata": {},
   "outputs": [],
   "source": [
    "def L(y):\n",
    "    a(x)=expand((x-1)*diff(y,x,2)-x * diff(y,x) + y)\n",
    "    return a(x)"
   ]
  },
  {
   "cell_type": "code",
   "execution_count": 23,
   "id": "b9bc543c",
   "metadata": {},
   "outputs": [],
   "source": [
    "y1=function('y1')(x)\n",
    "y2=function('y2')(x)\n",
    "y1(x) = x\n",
    "y2(x) = exp(x)"
   ]
  },
  {
   "cell_type": "code",
   "execution_count": 24,
   "id": "0e36cab5",
   "metadata": {},
   "outputs": [
    {
     "data": {
      "text/plain": [
       "0"
      ]
     },
     "execution_count": 24,
     "metadata": {},
     "output_type": "execute_result"
    }
   ],
   "source": [
    "L(y1)"
   ]
  },
  {
   "cell_type": "code",
   "execution_count": 25,
   "id": "70fd9e3e",
   "metadata": {},
   "outputs": [
    {
     "data": {
      "text/plain": [
       "0"
      ]
     },
     "execution_count": 25,
     "metadata": {},
     "output_type": "execute_result"
    }
   ],
   "source": [
    "L(y2)"
   ]
  },
  {
   "cell_type": "code",
   "execution_count": 27,
   "id": "6cf11b0f",
   "metadata": {},
   "outputs": [
    {
     "data": {
      "text/plain": [
       "[  x e^x]\n",
       "[  1 e^x]"
      ]
     },
     "execution_count": 27,
     "metadata": {},
     "output_type": "execute_result"
    }
   ],
   "source": [
    "W=matrix([[y1(x),y2(x)], [diff(y1,x)(x),diff(y2,x)(x)]])\n",
    "W"
   ]
  },
  {
   "cell_type": "code",
   "execution_count": 29,
   "id": "50ed92ff",
   "metadata": {},
   "outputs": [
    {
     "data": {
      "text/plain": [
       "x*e^x - e^x"
      ]
     },
     "execution_count": 29,
     "metadata": {},
     "output_type": "execute_result"
    }
   ],
   "source": [
    "det(W)"
   ]
  },
  {
   "cell_type": "markdown",
   "id": "1c63a6ed",
   "metadata": {},
   "source": [
    "# Exercise 4"
   ]
  },
  {
   "cell_type": "markdown",
   "id": "70a72091",
   "metadata": {},
   "source": [
    "## (a)S={cos(x),sin(x)}"
   ]
  },
  {
   "cell_type": "code",
   "execution_count": null,
   "id": "2853c80c",
   "metadata": {},
   "outputs": [],
   "source": []
  }
 ],
 "metadata": {
  "kernelspec": {
   "display_name": "SageMath 9.8",
   "language": "sage",
   "name": "sagemath-9.8"
  },
  "language_info": {
   "codemirror_mode": {
    "name": "ipython",
    "version": 3
   },
   "file_extension": ".py",
   "mimetype": "text/x-python",
   "name": "python",
   "nbconvert_exporter": "python",
   "pygments_lexer": "ipython3",
   "version": "3.11.1"
  }
 },
 "nbformat": 4,
 "nbformat_minor": 5
}
