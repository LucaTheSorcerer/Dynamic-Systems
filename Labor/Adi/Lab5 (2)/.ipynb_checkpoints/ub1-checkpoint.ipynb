{
 "cells": [
  {
   "cell_type": "code",
   "execution_count": 1,
   "metadata": {},
   "outputs": [],
   "source": [
    "reset()\n",
    "x=var('x')\n",
    "y=function('y')(x)\n",
    "deq=x*diff(y,x,2)-(x+1)*diff(y,x)-2*(x-1)*y==0"
   ]
  },
  {
   "cell_type": "code",
   "execution_count": 3,
   "metadata": {},
   "outputs": [],
   "source": [
    "y1=function('y1')(x)\n",
    "y1(x)=exp(2*x)\n",
    "y2=function('y2')(x)\n",
    "y2(x)=x^2+1"
   ]
  },
  {
   "cell_type": "code",
   "execution_count": 7,
   "metadata": {},
   "outputs": [
    {
     "data": {
      "text/plain": [
       "0"
      ]
     },
     "execution_count": 7,
     "metadata": {},
     "output_type": "execute_result"
    }
   ],
   "source": [
    "ans1 = x*diff(y1,x,2) - (x + 1) * diff(y1,x) - 2*(x - 1) * y1\n",
    "expand(ans1(x))\n",
    "# == 0 => ist Losung"
   ]
  },
  {
   "cell_type": "code",
   "execution_count": 8,
   "metadata": {},
   "outputs": [
    {
     "data": {
      "text/plain": [
       "-2*x^3 - 2*x + 2"
      ]
     },
     "execution_count": 8,
     "metadata": {},
     "output_type": "execute_result"
    }
   ],
   "source": [
    "ans2 = x*diff(y2,x,2) - (x + 1) * diff(y2,x) - 2*(x - 1) * y2\n",
    "expand(ans2(x))\n",
    "# != 0 => ist keine Losung"
   ]
  },
  {
   "cell_type": "code",
   "execution_count": 10,
   "metadata": {},
   "outputs": [],
   "source": [
    "reset()\n",
    "x=var('x')\n",
    "y=function('y')(x)\n",
    "deq=diff(y,x,2)-tan(x)*diff(y,x)+2*y==0"
   ]
  },
  {
   "cell_type": "code",
   "execution_count": 11,
   "metadata": {},
   "outputs": [],
   "source": [
    "y1=function('y1')(x)\n",
    "y1(x)=cos(x)\n",
    "y2=function('y2')(x)\n",
    "y2(x)=sin(x)"
   ]
  },
  {
   "cell_type": "code",
   "execution_count": 12,
   "metadata": {},
   "outputs": [
    {
     "data": {
      "text/plain": [
       "sin(x)*tan(x) + cos(x) == 0"
      ]
     },
     "execution_count": 12,
     "metadata": {},
     "output_type": "execute_result"
    }
   ],
   "source": [
    "ans1=diff(y1,x,2)-tan(x)*diff(y1,x)+2*y1==0\n",
    "expand(ans1(x))\n",
    "# == 0 => ist Losung"
   ]
  },
  {
   "cell_type": "code",
   "execution_count": 13,
   "metadata": {},
   "outputs": [
    {
     "data": {
      "text/plain": [
       "-cos(x)*tan(x) + sin(x) == 0"
      ]
     },
     "execution_count": 13,
     "metadata": {},
     "output_type": "execute_result"
    }
   ],
   "source": [
    "ans2=diff(y2,x,2)-tan(x)*diff(y2,x)+2*y2==0\n",
    "expand(ans2(x))\n",
    "# != 0 => ist keine Losung"
   ]
  },
  {
   "cell_type": "code",
   "execution_count": 0,
   "metadata": {},
   "outputs": [],
   "source": []
  }
 ],
 "metadata": {
  "kernelspec": {
   "display_name": "SageMath 9.8",
   "language": "sage",
   "name": "sagemath-9.8"
  },
  "language_info": {
   "codemirror_mode": {
    "name": "ipython",
    "version": 3
   },
   "file_extension": ".py",
   "mimetype": "text/x-python",
   "name": "python",
   "nbconvert_exporter": "python",
   "pygments_lexer": "ipython3",
   "version": "3.11.1"
  }
 },
 "nbformat": 4,
 "nbformat_minor": 4
}
