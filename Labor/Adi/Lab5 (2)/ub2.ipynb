{
 "cells": [
  {
   "cell_type": "code",
   "execution_count": 4,
   "metadata": {},
   "outputs": [
    {
     "data": {
      "text/plain": [
       "a^2*x*e^(a*x) - 2*a*x*e^(a*x) - a*e^(a*x) + 2*e^(a*x)"
      ]
     },
     "execution_count": 4,
     "metadata": {},
     "output_type": "execute_result"
    }
   ],
   "source": [
    "reset()\n",
    "x,a=var('x,a')\n",
    "y=function('y')(x)\n",
    "deq=x*diff(y,x,2)-(2*x+1)*diff(y,x)+2*y == 0\n",
    "u=function('u')(x)\n",
    "u(x)=exp(a*x)\n",
    "ans=x*diff(u,x,2)-(2*x+1)*diff(u,x)+2*u\n",
    "ans(x)\n",
    "#v=function('v')(x)\n",
    "#v(x)=x^2+1\n",
    "#ans=x*diff(v,x,2)-(x+1)*diff(v,x)-2*(x-1)*v\n",
    "#ans(x)\n",
    "expand(ans(x))"
   ]
  },
  {
   "cell_type": "code",
   "execution_count": 4,
   "metadata": {},
   "outputs": [
    {
     "data": {
      "text/plain": [
       "[b == 0]"
      ]
     },
     "execution_count": 4,
     "metadata": {},
     "output_type": "execute_result"
    }
   ],
   "source": [
    "reset()\n",
    "x=var('x')\n",
    "y=function('y')(x)\n",
    "deq=diff(y,x,2)+diff(y,x)-y/x==0\n",
    "a,b=var('a,b')\n",
    "u=function('u')(x)\n",
    "u(x)=a*x+b\n",
    "def L(y):\n",
    "    a(x)=expand(diff(y,x,2)+diff(y,x)-y/x)\n",
    "    return a(x)\n",
    "L(u)\n",
    "ans=L(u)\n",
    "ans.coefficients(x)\n",
    "coeff=ans.coefficients(x)\n",
    "coeff[0][0]\n",
    "coeff[0][1]\n",
    "c0=coeff[0][0]\n",
    "solve([c0==0],b)"
   ]
  },
  {
   "cell_type": "code",
   "execution_count": 0,
   "metadata": {},
   "outputs": [],
   "source": []
  }
 ],
 "metadata": {
  "kernelspec": {
   "display_name": "SageMath 9.8",
   "language": "sage",
   "name": "sagemath-9.8"
  },
  "language_info": {
   "codemirror_mode": {
    "name": "ipython",
    "version": 3
   },
   "file_extension": ".py",
   "mimetype": "text/x-python",
   "name": "python",
   "nbconvert_exporter": "python",
   "pygments_lexer": "ipython3",
   "version": "3.11.1"
  }
 },
 "nbformat": 4,
 "nbformat_minor": 4
}
